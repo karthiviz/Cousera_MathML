{
 "cells": [
  {
   "cell_type": "markdown",
   "metadata": {
    "collapsed": true
   },
   "source": [
    "# PageRank\n",
    "In this notebook, you'll build on your knowledge of eigenvectors and eigenvalues by exploring the PageRank algorithm.\n",
    "The notebook is in two parts, the first is a worksheet to get you up to speed with how the algorithm works - here we will look at a micro-internet with fewer than 10 websites and see what it does and what can go wrong.\n",
    "The second is an assessment which will test your application of eigentheory to this problem by writing code and calculating the page rank of a large network representing a sub-section of the internet."
   ]
  },
  {
   "cell_type": "markdown",
   "metadata": {},
   "source": [
    "## Part 1 - Worksheet\n",
    "### Introduction\n",
    "\n",
    "PageRank (developed by Larry Page and Sergey Brin) revolutionized web search by generating a\n",
    "ranked list of web pages based on the underlying connectivity of the web. The PageRank algorithm is\n",
    "based on an ideal random web surfer who, when reaching a page, goes to the next page by clicking on a\n",
    "link. The surfer has equal probability of clicking any link on the page and, when reaching a page with no\n",
    "links, has equal probability of moving to any other page by typing in its URL. In addition, the surfer may\n",
    "occasionally choose to type in a random URL instead of following the links on a page. The PageRank is\n",
    "the ranked order of the pages from the most to the least probable page the surfer will be viewing.\n"
   ]
  },
  {
   "cell_type": "code",
   "execution_count": 1,
   "metadata": {},
   "outputs": [
    {
     "name": "stdout",
     "output_type": "stream",
     "text": [
      "Populating the interactive namespace from numpy and matplotlib\n"
     ]
    }
   ],
   "source": [
    "# Before we begin, let's load the libraries.\n",
    "%pylab notebook\n",
    "import numpy as np\n",
    "import numpy.linalg as la\n",
    "from readonly.PageRankFunctions import *\n",
    "np.set_printoptions(suppress=True)"
   ]
  },
  {
   "cell_type": "markdown",
   "metadata": {},
   "source": [
    "### PageRank as a linear algebra problem\n",
    "Let's imagine a micro-internet, with just 6 websites (**A**vocado, **B**ullseye, **C**atBabel, **D**romeda, **e**Tings, and **F**aceSpace).\n",
    "Each website links to some of the others, and this forms a network as shown,\n",
    "\n",
    "![A Micro-Internet](readonly/internet.png \"A Micro-Internet\")\n",
    "\n",
    "The design principle of PageRank is that important websites will be linked to by important websites.\n",
    "This somewhat recursive principle will form the basis of our thinking.\n",
    "\n",
    "Imagine we have 100 *Procrastinating Pat*s on our micro-internet, each viewing a single website at a time.\n",
    "Each minute the Pats follow a link on their website to another site on the micro-internet.\n",
    "After a while, the websites that are most linked to will have more Pats visiting them, and in the long run, each minute for every Pat that leaves a website, another will enter keeping the total numbers of Pats on each website constant.\n",
    "The PageRank is simply the ranking of websites by how many Pats they have on them at the end of this process.\n",
    "\n",
    "We represent the number of Pats on each website with the vector,\n",
    "$$\\mathbf{r} = \\begin{bmatrix} r_A \\\\ r_B \\\\ r_C \\\\ r_D \\\\ r_E \\\\ r_F \\end{bmatrix}$$\n",
    "And say that the number of Pats on each website in minute $i+1$ is related to those at minute $i$ by the matrix transformation\n",
    "\n",
    "$$ \\mathbf{r}^{(i+1)} = L \\,\\mathbf{r}^{(i)}$$\n",
    "with the matrix $L$ taking the form,\n",
    "$$ L = \\begin{bmatrix}\n",
    "L_{A→A} & L_{B→A} & L_{C→A} & L_{D→A} & L_{E→A} & L_{F→A} \\\\\n",
    "L_{A→B} & L_{B→B} & L_{C→B} & L_{D→B} & L_{E→B} & L_{F→B} \\\\\n",
    "L_{A→C} & L_{B→C} & L_{C→C} & L_{D→C} & L_{E→C} & L_{F→C} \\\\\n",
    "L_{A→D} & L_{B→D} & L_{C→D} & L_{D→D} & L_{E→D} & L_{F→D} \\\\\n",
    "L_{A→E} & L_{B→E} & L_{C→E} & L_{D→E} & L_{E→E} & L_{F→E} \\\\\n",
    "L_{A→F} & L_{B→F} & L_{C→F} & L_{D→F} & L_{E→F} & L_{F→F} \\\\\n",
    "\\end{bmatrix}\n",
    "$$\n",
    "where the columns represent the probability of leaving a website for any other website, and sum to one.\n",
    "The rows determine how likely you are to enter a website from any other, though these need not add to one.\n",
    "The long time behaviour of this system is when $ \\mathbf{r}^{(i+1)} = \\mathbf{r}^{(i)}$, so we'll drop the superscripts here, and that allows us to write,\n",
    "$$ L \\,\\mathbf{r} = \\mathbf{r}$$\n",
    "\n",
    "which is an eigenvalue equation for the matrix $L$, with eigenvalue 1 (this is guaranteed by the probabalistic structure of the matrix $L$).\n",
    "\n",
    "Complete the matrix $L$ below, we've left out the column for which websites the *FaceSpace* website (F) links to.\n",
    "Remember, this is the probability to click on another website from this one, so each column should add to one (by scaling by the number of links)."
   ]
  },
  {
   "cell_type": "code",
   "execution_count": 6,
   "metadata": {
    "collapsed": true
   },
   "outputs": [],
   "source": [
    "# Replace the ??? here with the probability of clicking a link to each website when leaving Website F (FaceSpace).\n",
    "L = np.array([[0,   1/2, 1/3, 0, 0,   0 ],\n",
    "              [1/3, 0,   0,   0, 1/2, 0 ],\n",
    "              [1/3, 1/2, 0,   1, 0,   0.5 ],\n",
    "              [1/3, 0,   1/3, 0, 1/2, 0.5 ],\n",
    "              [0,   0,   0,   0, 0,   0 ],\n",
    "              [0,   0,   1/3, 0, 0,   0 ]])"
   ]
  },
  {
   "cell_type": "markdown",
   "metadata": {},
   "source": [
    "In principle, we could use a linear algebra library, as below, to calculate the eigenvalues and vectors.\n",
    "And this would work for a small system. But this gets unmanagable for large systems.\n",
    "And since we only care about the principal eigenvector (the one with the largest eigenvalue, which will be 1 in this case), we can use the *power iteration method* which will scale better, and is faster for large systems.\n",
    "\n",
    "Use the code below to peek at the PageRank for this micro-internet."
   ]
  },
  {
   "cell_type": "code",
   "execution_count": 7,
   "metadata": {
    "collapsed": true
   },
   "outputs": [],
   "source": [
    "eVals, eVecs = la.eig(L) # Gets the eigenvalues and vectors\n"
   ]
  },
  {
   "cell_type": "code",
   "execution_count": 8,
   "metadata": {},
   "outputs": [
    {
     "data": {
      "text/plain": [
       "array([ 1.00000000+0.j        ,  0.31416979+0.j        ,\n",
       "       -0.54288045+0.30393757j, -0.54288045-0.30393757j,\n",
       "       -0.22840890+0.j        ,  0.00000000+0.j        ])"
      ]
     },
     "execution_count": 8,
     "metadata": {},
     "output_type": "execute_result"
    }
   ],
   "source": [
    "eVals"
   ]
  },
  {
   "cell_type": "code",
   "execution_count": 9,
   "metadata": {},
   "outputs": [
    {
     "data": {
      "text/plain": [
       "array([[ 0.30769231+0.j        ,  0.53116445+0.j        ,\n",
       "        -0.25448371-0.35792579j, -0.25448371+0.35792579j,\n",
       "        -0.29449150+0.j        , -0.80178373+0.j        ],\n",
       "       [ 0.10256410+0.j        ,  0.56356410+0.j        ,\n",
       "         0.02528834+0.23392751j,  0.02528834-0.23392751j,\n",
       "         0.42977236+0.j        ,  0.00000000+0.j        ],\n",
       "       [ 0.76923077+0.j        , -0.34471868+0.j        ,\n",
       "         0.70289147+0.j        ,  0.70289147-0.j        ,\n",
       "        -0.44286511+0.j        , -0.00000000+0.j        ],\n",
       "       [ 0.48717949+0.j        , -0.38426425+0.j        ,\n",
       "        -0.14510850+0.30796164j, -0.14510850-0.30796164j,\n",
       "        -0.33872028+0.j        ,  0.26726124+0.j        ],\n",
       "       [ 0.00000000+0.j        ,  0.00000000+0.j        ,\n",
       "         0.00000000+0.j        ,  0.00000000-0.j        ,\n",
       "         0.00000000+0.j        ,  0.53452248+0.j        ],\n",
       "       [ 0.25641026+0.j        , -0.36574562+0.j        ,\n",
       "        -0.32858759-0.18396336j, -0.32858759+0.18396336j,\n",
       "         0.64630452+0.j        , -0.00000000+0.j        ]])"
      ]
     },
     "execution_count": 9,
     "metadata": {},
     "output_type": "execute_result"
    }
   ],
   "source": [
    "eVecs"
   ]
  },
  {
   "cell_type": "code",
   "execution_count": 10,
   "metadata": {},
   "outputs": [
    {
     "data": {
      "text/plain": [
       "array([ 16.        ,   5.33333333,  40.        ,  25.33333333,\n",
       "         0.        ,  13.33333333])"
      ]
     },
     "execution_count": 10,
     "metadata": {},
     "output_type": "execute_result"
    }
   ],
   "source": [
    "order = np.absolute(eVals).argsort()[::-1] # Orders them by their eigenvalues\n",
    "eVals = eVals[order]\n",
    "eVecs = eVecs[:,order]\n",
    "\n",
    "r = eVecs[:, 0] # Sets r to be the principal eigenvector\n",
    "100 * np.real(r / np.sum(r)) # Make this eigenvector sum to one, then multiply by 100 Procrastinating Pats"
   ]
  },
  {
   "cell_type": "code",
   "execution_count": 11,
   "metadata": {},
   "outputs": [
    {
     "data": {
      "text/plain": [
       "array([0, 3, 2, 1, 4, 5])"
      ]
     },
     "execution_count": 11,
     "metadata": {},
     "output_type": "execute_result"
    }
   ],
   "source": [
    "order"
   ]
  },
  {
   "cell_type": "code",
   "execution_count": 12,
   "metadata": {},
   "outputs": [
    {
     "data": {
      "text/plain": [
       "array([ 1.00000000+0.j        , -0.54288045-0.30393757j,\n",
       "       -0.54288045+0.30393757j,  0.31416979+0.j        ,\n",
       "       -0.22840890+0.j        ,  0.00000000+0.j        ])"
      ]
     },
     "execution_count": 12,
     "metadata": {},
     "output_type": "execute_result"
    }
   ],
   "source": [
    "eVals"
   ]
  },
  {
   "cell_type": "markdown",
   "metadata": {},
   "source": [
    "We can see from this list, the number of Procrastinating Pats that we expect to find on each website after long times.\n",
    "Putting them in order of *popularity* (based on this metric), the PageRank of this micro-internet is:\n",
    "\n",
    "**C**atBabel, **D**romeda, **A**vocado, **F**aceSpace, **B**ullseye, **e**Tings\n",
    "\n",
    "Referring back to the micro-internet diagram, is this what you would have expected?\n",
    "Convince yourself that based on which pages seem important given which others link to them, that this is a sensible ranking.\n",
    "\n",
    "Let's now try to get the same result using the Power-Iteration method that was covered in the video.\n",
    "This method will be much better at dealing with large systems.\n",
    "\n",
    "First let's set up our initial vector, $\\mathbf{r}^{(0)}$, so that we have our 100 Procrastinating Pats equally distributed on each of our 6 websites."
   ]
  },
  {
   "cell_type": "code",
   "execution_count": 13,
   "metadata": {},
   "outputs": [
    {
     "data": {
      "text/plain": [
       "array([ 16.66666667,  16.66666667,  16.66666667,  16.66666667,\n",
       "        16.66666667,  16.66666667])"
      ]
     },
     "execution_count": 13,
     "metadata": {},
     "output_type": "execute_result"
    }
   ],
   "source": [
    "r = 100 * np.ones(6) / 6 # Sets up this vector (6 entries of 1/6 × 100 each)\n",
    "r # Shows it's value"
   ]
  },
  {
   "cell_type": "markdown",
   "metadata": {},
   "source": [
    "Next, let's update the vector to the next minute, with the matrix $L$.\n",
    "Run the following cell multiple times, until the answer stabilises."
   ]
  },
  {
   "cell_type": "code",
   "execution_count": 14,
   "metadata": {},
   "outputs": [
    {
     "data": {
      "text/plain": [
       "array([ 13.88888889,  13.88888889,  38.88888889,  27.77777778,\n",
       "         0.        ,   5.55555556])"
      ]
     },
     "execution_count": 14,
     "metadata": {},
     "output_type": "execute_result"
    }
   ],
   "source": [
    "r = L @ r # Apply matrix L to r\n",
    "r # Show it's value\n",
    "# Re-run this cell multiple times to converge to the correct answer."
   ]
  },
  {
   "cell_type": "markdown",
   "metadata": {},
   "source": [
    "We can automate applying this matrix multiple times as follows,"
   ]
  },
  {
   "cell_type": "code",
   "execution_count": 15,
   "metadata": {},
   "outputs": [
    {
     "data": {
      "text/plain": [
       "array([ 16.        ,   5.33333333,  40.        ,  25.33333333,\n",
       "         0.        ,  13.33333333])"
      ]
     },
     "execution_count": 15,
     "metadata": {},
     "output_type": "execute_result"
    }
   ],
   "source": [
    "r = 100 * np.ones(6) / 6 # Sets up this vector (6 entries of 1/6 × 100 each)\n",
    "for i in np.arange(100) : # Repeat 100 times\n",
    "    r = L @ r\n",
    "r"
   ]
  },
  {
   "cell_type": "markdown",
   "metadata": {},
   "source": [
    "Or even better, we can keep running until we get to the required tolerance."
   ]
  },
  {
   "cell_type": "code",
   "execution_count": 16,
   "metadata": {},
   "outputs": [
    {
     "name": "stdout",
     "output_type": "stream",
     "text": [
      "18 iterations to convergence.\n"
     ]
    },
    {
     "data": {
      "text/plain": [
       "array([ 16.00149917,   5.33252025,  39.99916911,  25.3324738 ,\n",
       "         0.        ,  13.33433767])"
      ]
     },
     "execution_count": 16,
     "metadata": {},
     "output_type": "execute_result"
    }
   ],
   "source": [
    "r = 100 * np.ones(6) / 6 # Sets up this vector (6 entries of 1/6 × 100 each)\n",
    "lastR = r\n",
    "r = L @ r\n",
    "i = 0\n",
    "while la.norm(lastR - r) > 0.01 :\n",
    "    lastR = r\n",
    "    r = L @ r\n",
    "    i += 1\n",
    "print(str(i) + \" iterations to convergence.\")\n",
    "r"
   ]
  },
  {
   "cell_type": "markdown",
   "metadata": {},
   "source": [
    "See how the PageRank order is established fairly quickly, and the vector converges on the value we calculated earlier after a few tens of repeats.\n",
    "\n",
    "Congratulations! You've just calculated your first PageRank!"
   ]
  },
  {
   "cell_type": "markdown",
   "metadata": {},
   "source": [
    "### Damping Parameter\n",
    "The system we just studied converged fairly quickly to the correct answer.\n",
    "Let's consider an extension to our micro-internet where things start to go wrong.\n",
    "\n",
    "Say a new website is added to the micro-internet: *Geoff's* Website.\n",
    "This website is linked to by *FaceSpace* and only links to itself.\n",
    "![An Expanded Micro-Internet](readonly/internet2.png \"An Expanded Micro-Internet\")\n",
    "\n",
    "Intuitively, only *FaceSpace*, which is in the bottom half of the page rank, links to this website amongst the two others it links to,\n",
    "so we might expect *Geoff's* site to have a correspondingly low PageRank score.\n",
    "\n",
    "Build the new $L$ matrix for the expanded micro-internet, and use Power-Iteration on the Procrastinating Pat vector.\n",
    "See what happens…"
   ]
  },
  {
   "cell_type": "code",
   "execution_count": 19,
   "metadata": {
    "collapsed": true
   },
   "outputs": [],
   "source": [
    " # We'll call this one L2, to distinguish it from the previous L.\n",
    "L2 = np.array([[0,   1/2, 1/3, 0, 0,   0, 0 ],\n",
    "               [1/3, 0,   0,   0, 1/2, 0, 0 ],\n",
    "               [1/3, 1/2, 0,   1, 0,   1/3, 0 ],\n",
    "               [1/3, 0,   1/3, 0, 1/2, 1/3, 0 ],\n",
    "               [0,   0,   0,   0, 0,   0, 0 ],\n",
    "               [0,   0,   1/3, 0, 0,   0, 0 ],\n",
    "               [0,   0,   0,   0, 0,   1/3, 1 ]])"
   ]
  },
  {
   "cell_type": "code",
   "execution_count": 20,
   "metadata": {},
   "outputs": [
    {
     "name": "stdout",
     "output_type": "stream",
     "text": [
      "131 iterations to convergence.\n"
     ]
    },
    {
     "data": {
      "text/plain": [
       "array([  0.03046998,   0.01064323,   0.07126612,   0.04423198,\n",
       "         0.        ,   0.02489342,  99.81849527])"
      ]
     },
     "execution_count": 20,
     "metadata": {},
     "output_type": "execute_result"
    }
   ],
   "source": [
    "r = 100 * np.ones(7) / 7 # Sets up this vector (6 entries of 1/6 × 100 each)\n",
    "lastR = r\n",
    "r = L2 @ r\n",
    "i = 0\n",
    "while la.norm(lastR - r) > 0.01 :\n",
    "    lastR = r\n",
    "    r = L2 @ r\n",
    "    i += 1\n",
    "print(str(i) + \" iterations to convergence.\")\n",
    "r"
   ]
  },
  {
   "cell_type": "markdown",
   "metadata": {},
   "source": [
    "That's no good! *Geoff* seems to be taking all the traffic on the micro-internet, and somehow coming at the top of the PageRank.\n",
    "This behaviour can be understood, because once a Pat get's to *Geoff's* Website, they can't leave, as all links head back to Geoff.\n",
    "\n",
    "To combat this, we can add a small probability that the Procrastinating Pats don't follow any link on a webpage, but instead visit a website on the micro-internet at random.\n",
    "We'll say the probability of them following a link is $d$ and the probability of choosing a random website is therefore $1-d$.\n",
    "We can use a new matrix to work out where the Pat's visit each minute.\n",
    "$$ M = d \\, L + \\frac{1-d}{n} \\, J $$\n",
    "where $J$ is an $n\\times n$ matrix where every element is one.\n",
    "\n",
    "If $d$ is one, we have the case we had previously, whereas if $d$ is zero, we will always visit a random webpage and therefore all webpages will be equally likely and equally ranked.\n",
    "For this extension to work best, $1-d$ should be somewhat small - though we won't go into a discussion about exactly how small.\n",
    "\n",
    "Let's retry this PageRank with this extension."
   ]
  },
  {
   "cell_type": "code",
   "execution_count": 21,
   "metadata": {
    "collapsed": true
   },
   "outputs": [],
   "source": [
    "d = 0.5 # Feel free to play with this parameter after running the code once.\n",
    "M = d * L2 + (1-d)/7 * np.ones([7, 7]) # np.ones() is the J matrix, with ones for each entry."
   ]
  },
  {
   "cell_type": "code",
   "execution_count": 22,
   "metadata": {},
   "outputs": [
    {
     "name": "stdout",
     "output_type": "stream",
     "text": [
      "8 iterations to convergence.\n"
     ]
    },
    {
     "data": {
      "text/plain": [
       "array([ 13.68217054,  11.20902965,  22.41964343,  16.7593433 ,\n",
       "         7.14285714,  10.87976354,  17.90719239])"
      ]
     },
     "execution_count": 22,
     "metadata": {},
     "output_type": "execute_result"
    }
   ],
   "source": [
    "r = 100 * np.ones(7) / 7 # Sets up this vector (6 entries of 1/6 × 100 each)\n",
    "lastR = r\n",
    "r = M @ r\n",
    "i = 0\n",
    "while la.norm(lastR - r) > 0.01 :\n",
    "    lastR = r\n",
    "    r = M @ r\n",
    "    i += 1\n",
    "print(str(i) + \" iterations to convergence.\")\n",
    "r"
   ]
  },
  {
   "cell_type": "markdown",
   "metadata": {},
   "source": [
    "This is certainly better, the PageRank gives sensible numbers for the Procrastinating Pats that end up on each webpage.\n",
    "This method still predicts Geoff has a high ranking webpage however.\n",
    "This could be seen as a consequence of using a small network. We could also get around the problem by not counting self-links when producing the L matrix (an if a website has no outgoing links, make it link to all websites equally).\n",
    "We won't look further down this route, as this is in the realm of improvements to PageRank, rather than eigenproblems.\n",
    "\n",
    "You are now in a good position, having gained an understanding of PageRank, to produce your own code to calculate the PageRank of a website with thousands of entries.\n",
    "\n",
    "Good Luck!"
   ]
  },
  {
   "cell_type": "markdown",
   "metadata": {},
   "source": [
    "## Part 2 - Assessment\n",
    "In this assessment, you will be asked to produce a function that can calculate the PageRank for an arbitrarily large probability matrix.\n",
    "This, the final assignment of the course, will give less guidance than previous assessments.\n",
    "You will be expected to utilise code from earlier in the worksheet and re-purpose it to your needs.\n",
    "\n",
    "### How to submit\n",
    "Edit the code in the cell below to complete the assignment.\n",
    "Once you are finished and happy with it, press the *Submit Assignment* button at the top of this notebook.\n",
    "\n",
    "Please don't change any of the function names, as these will be checked by the grading script.\n",
    "\n",
    "If you have further questions about submissions or programming assignments, here is a [list](https://www.coursera.org/learn/linear-algebra-machine-learning/discussions/weeks/1/threads/jB4klkn5EeibtBIQyzFmQg) of Q&A. You can also raise an issue on the discussion forum. Good luck!"
   ]
  },
  {
   "cell_type": "code",
   "execution_count": null,
   "metadata": {
    "collapsed": true
   },
   "outputs": [],
   "source": [
    "# PACKAGE\n",
    "# Here are the imports again, just in case you need them.\n",
    "# There is no need to edit or submit this cell.\n",
    "import numpy as np\n",
    "import numpy.linalg as la\n",
    "from readonly.PageRankFunctions import *\n",
    "np.set_printoptions(suppress=True)"
   ]
  },
  {
   "cell_type": "code",
   "execution_count": 36,
   "metadata": {
    "collapsed": true
   },
   "outputs": [],
   "source": [
    "# GRADED FUNCTION\n",
    "# Complete this function to provide the PageRank for an arbitrarily sized internet.\n",
    "# I.e. the principal eigenvector of the damped system, using the power iteration method.\n",
    "# (Normalisation doesn't matter here)\n",
    "# The functions inputs are the linkMatrix, and d the damping parameter - as defined in this worksheet.\n",
    "# (The damping parameter, d, will be set by the function - no need to set this yourself.)\n",
    "def pageRank(linkMatrix, d) :\n",
    "    n = linkMatrix.shape[0]\n",
    "    M = d * linkMatrix + (1-d)/n * np.ones([n, n])\n",
    "    r = np.ones(n) / n # Sets up this vector (n entries of 1/n)\n",
    "    lastR = r\n",
    "    r = M @ r\n",
    "    i = 0\n",
    "    while la.norm(lastR - r) > 0.01 :\n",
    "        lastR = r\n",
    "        r = M @ r\n",
    "        i += 1\n",
    "    print(str(i) + \" iterations to convergence.\")\n",
    "    return r*100"
   ]
  },
  {
   "cell_type": "markdown",
   "metadata": {},
   "source": [
    "## Test your code before submission\n",
    "To test the code you've written above, run the cell (select the cell above, then press the play button [ ▶| ] or press shift-enter).\n",
    "You can then use the code below to test out your function.\n",
    "You don't need to submit this cell; you can edit and run it as much as you like."
   ]
  },
  {
   "cell_type": "code",
   "execution_count": 29,
   "metadata": {},
   "outputs": [
    {
     "data": {
      "text/plain": [
       "array([[ 0.2,  0.2,  0. ,  0. ,  0.2],\n",
       "       [ 0.2,  0.2,  0. ,  0. ,  0.2],\n",
       "       [ 0.2,  0.2,  0. ,  0. ,  0.2],\n",
       "       [ 0.2,  0.2,  1. ,  1. ,  0.2],\n",
       "       [ 0.2,  0.2,  0. ,  0. ,  0.2]])"
      ]
     },
     "execution_count": 29,
     "metadata": {},
     "output_type": "execute_result"
    }
   ],
   "source": [
    "# Use the following function to generate internets of different sizes.\n",
    "generate_internet(5)"
   ]
  },
  {
   "cell_type": "code",
   "execution_count": 37,
   "metadata": {
    "collapsed": true
   },
   "outputs": [],
   "source": [
    "# Test your PageRank method against the built in \"eig\" method.\n",
    "# You should see yours is a lot faster for large internets\n",
    "L = generate_internet(10)"
   ]
  },
  {
   "cell_type": "code",
   "execution_count": 38,
   "metadata": {},
   "outputs": [
    {
     "data": {
      "text/plain": [
       "array([[ 0.33333333,  0.1       ,  0.        ,  1.        ,  0.        ,\n",
       "         0.        ,  0.        ,  0.        ,  0.        ,  0.        ],\n",
       "       [ 0.        ,  0.1       ,  0.        ,  0.        ,  1.        ,\n",
       "         0.        ,  0.        ,  1.        ,  0.        ,  1.        ],\n",
       "       [ 0.        ,  0.1       ,  1.        ,  0.        ,  0.        ,\n",
       "         0.        ,  0.        ,  0.        ,  0.        ,  0.        ],\n",
       "       [ 0.33333333,  0.1       ,  0.        ,  0.        ,  0.        ,\n",
       "         0.        ,  0.        ,  0.        ,  0.        ,  0.        ],\n",
       "       [ 0.33333333,  0.1       ,  0.        ,  0.        ,  0.        ,\n",
       "         0.        ,  0.        ,  0.        ,  0.        ,  0.        ],\n",
       "       [ 0.        ,  0.1       ,  0.        ,  0.        ,  0.        ,\n",
       "         1.        ,  0.        ,  0.        ,  0.        ,  0.        ],\n",
       "       [ 0.        ,  0.1       ,  0.        ,  0.        ,  0.        ,\n",
       "         0.        ,  0.        ,  0.        ,  0.        ,  0.        ],\n",
       "       [ 0.        ,  0.1       ,  0.        ,  0.        ,  0.        ,\n",
       "         0.        ,  1.        ,  0.        ,  1.        ,  0.        ],\n",
       "       [ 0.        ,  0.1       ,  0.        ,  0.        ,  0.        ,\n",
       "         0.        ,  0.        ,  0.        ,  0.        ,  0.        ],\n",
       "       [ 0.        ,  0.1       ,  0.        ,  0.        ,  0.        ,\n",
       "         0.        ,  0.        ,  0.        ,  0.        ,  0.        ]])"
      ]
     },
     "execution_count": 38,
     "metadata": {},
     "output_type": "execute_result"
    }
   ],
   "source": [
    "L"
   ]
  },
  {
   "cell_type": "code",
   "execution_count": 39,
   "metadata": {},
   "outputs": [
    {
     "name": "stdout",
     "output_type": "stream",
     "text": [
      "23 iterations to convergence.\n"
     ]
    },
    {
     "data": {
      "text/plain": [
       "array([  4.36752177,   5.30000913,  41.3211003 ,   2.11498986,\n",
       "         2.11498986,  41.3211003 ,   0.5644752 ,   1.76686319,\n",
       "         0.5644752 ,   0.5644752 ])"
      ]
     },
     "execution_count": 39,
     "metadata": {},
     "output_type": "execute_result"
    }
   ],
   "source": [
    "pageRank(L, 1)"
   ]
  },
  {
   "cell_type": "code",
   "execution_count": 40,
   "metadata": {},
   "outputs": [
    {
     "data": {
      "text/plain": [
       "array([  0.0000003 ,   0.0000004 ,  49.99999935,   0.00000015,\n",
       "         0.00000015,  49.99999935,   0.00000005,   0.00000015,\n",
       "         0.00000005,   0.00000005])"
      ]
     },
     "execution_count": 40,
     "metadata": {},
     "output_type": "execute_result"
    }
   ],
   "source": [
    "# Do note, this is calculating the eigenvalues of the link matrix, L,\n",
    "# without any damping. It may give different results that your pageRank function.\n",
    "# If you wish, you could modify this cell to include damping.\n",
    "# (There is no credit for this though)\n",
    "eVals, eVecs = la.eig(L) # Gets the eigenvalues and vectors\n",
    "order = np.absolute(eVals).argsort()[::-1] # Orders them by their eigenvalues\n",
    "eVals = eVals[order]\n",
    "eVecs = eVecs[:,order]\n",
    "\n",
    "r = eVecs[:, 0]\n",
    "100 * np.real(r / np.sum(r))"
   ]
  },
  {
   "cell_type": "code",
   "execution_count": 41,
   "metadata": {},
   "outputs": [
    {
     "name": "stdout",
     "output_type": "stream",
     "text": [
      "Populating the interactive namespace from numpy and matplotlib\n",
      "7 iterations to convergence.\n"
     ]
    },
    {
     "data": {
      "application/javascript": [
       "/* Put everything inside the global mpl namespace */\n",
       "window.mpl = {};\n",
       "\n",
       "\n",
       "mpl.get_websocket_type = function() {\n",
       "    if (typeof(WebSocket) !== 'undefined') {\n",
       "        return WebSocket;\n",
       "    } else if (typeof(MozWebSocket) !== 'undefined') {\n",
       "        return MozWebSocket;\n",
       "    } else {\n",
       "        alert('Your browser does not have WebSocket support.' +\n",
       "              'Please try Chrome, Safari or Firefox ≥ 6. ' +\n",
       "              'Firefox 4 and 5 are also supported but you ' +\n",
       "              'have to enable WebSockets in about:config.');\n",
       "    };\n",
       "}\n",
       "\n",
       "mpl.figure = function(figure_id, websocket, ondownload, parent_element) {\n",
       "    this.id = figure_id;\n",
       "\n",
       "    this.ws = websocket;\n",
       "\n",
       "    this.supports_binary = (this.ws.binaryType != undefined);\n",
       "\n",
       "    if (!this.supports_binary) {\n",
       "        var warnings = document.getElementById(\"mpl-warnings\");\n",
       "        if (warnings) {\n",
       "            warnings.style.display = 'block';\n",
       "            warnings.textContent = (\n",
       "                \"This browser does not support binary websocket messages. \" +\n",
       "                    \"Performance may be slow.\");\n",
       "        }\n",
       "    }\n",
       "\n",
       "    this.imageObj = new Image();\n",
       "\n",
       "    this.context = undefined;\n",
       "    this.message = undefined;\n",
       "    this.canvas = undefined;\n",
       "    this.rubberband_canvas = undefined;\n",
       "    this.rubberband_context = undefined;\n",
       "    this.format_dropdown = undefined;\n",
       "\n",
       "    this.image_mode = 'full';\n",
       "\n",
       "    this.root = $('<div/>');\n",
       "    this._root_extra_style(this.root)\n",
       "    this.root.attr('style', 'display: inline-block');\n",
       "\n",
       "    $(parent_element).append(this.root);\n",
       "\n",
       "    this._init_header(this);\n",
       "    this._init_canvas(this);\n",
       "    this._init_toolbar(this);\n",
       "\n",
       "    var fig = this;\n",
       "\n",
       "    this.waiting = false;\n",
       "\n",
       "    this.ws.onopen =  function () {\n",
       "            fig.send_message(\"supports_binary\", {value: fig.supports_binary});\n",
       "            fig.send_message(\"send_image_mode\", {});\n",
       "            if (mpl.ratio != 1) {\n",
       "                fig.send_message(\"set_dpi_ratio\", {'dpi_ratio': mpl.ratio});\n",
       "            }\n",
       "            fig.send_message(\"refresh\", {});\n",
       "        }\n",
       "\n",
       "    this.imageObj.onload = function() {\n",
       "            if (fig.image_mode == 'full') {\n",
       "                // Full images could contain transparency (where diff images\n",
       "                // almost always do), so we need to clear the canvas so that\n",
       "                // there is no ghosting.\n",
       "                fig.context.clearRect(0, 0, fig.canvas.width, fig.canvas.height);\n",
       "            }\n",
       "            fig.context.drawImage(fig.imageObj, 0, 0);\n",
       "        };\n",
       "\n",
       "    this.imageObj.onunload = function() {\n",
       "        this.ws.close();\n",
       "    }\n",
       "\n",
       "    this.ws.onmessage = this._make_on_message_function(this);\n",
       "\n",
       "    this.ondownload = ondownload;\n",
       "}\n",
       "\n",
       "mpl.figure.prototype._init_header = function() {\n",
       "    var titlebar = $(\n",
       "        '<div class=\"ui-dialog-titlebar ui-widget-header ui-corner-all ' +\n",
       "        'ui-helper-clearfix\"/>');\n",
       "    var titletext = $(\n",
       "        '<div class=\"ui-dialog-title\" style=\"width: 100%; ' +\n",
       "        'text-align: center; padding: 3px;\"/>');\n",
       "    titlebar.append(titletext)\n",
       "    this.root.append(titlebar);\n",
       "    this.header = titletext[0];\n",
       "}\n",
       "\n",
       "\n",
       "\n",
       "mpl.figure.prototype._canvas_extra_style = function(canvas_div) {\n",
       "\n",
       "}\n",
       "\n",
       "\n",
       "mpl.figure.prototype._root_extra_style = function(canvas_div) {\n",
       "\n",
       "}\n",
       "\n",
       "mpl.figure.prototype._init_canvas = function() {\n",
       "    var fig = this;\n",
       "\n",
       "    var canvas_div = $('<div/>');\n",
       "\n",
       "    canvas_div.attr('style', 'position: relative; clear: both; outline: 0');\n",
       "\n",
       "    function canvas_keyboard_event(event) {\n",
       "        return fig.key_event(event, event['data']);\n",
       "    }\n",
       "\n",
       "    canvas_div.keydown('key_press', canvas_keyboard_event);\n",
       "    canvas_div.keyup('key_release', canvas_keyboard_event);\n",
       "    this.canvas_div = canvas_div\n",
       "    this._canvas_extra_style(canvas_div)\n",
       "    this.root.append(canvas_div);\n",
       "\n",
       "    var canvas = $('<canvas/>');\n",
       "    canvas.addClass('mpl-canvas');\n",
       "    canvas.attr('style', \"left: 0; top: 0; z-index: 0; outline: 0\")\n",
       "\n",
       "    this.canvas = canvas[0];\n",
       "    this.context = canvas[0].getContext(\"2d\");\n",
       "\n",
       "    var backingStore = this.context.backingStorePixelRatio ||\n",
       "\tthis.context.webkitBackingStorePixelRatio ||\n",
       "\tthis.context.mozBackingStorePixelRatio ||\n",
       "\tthis.context.msBackingStorePixelRatio ||\n",
       "\tthis.context.oBackingStorePixelRatio ||\n",
       "\tthis.context.backingStorePixelRatio || 1;\n",
       "\n",
       "    mpl.ratio = (window.devicePixelRatio || 1) / backingStore;\n",
       "\n",
       "    var rubberband = $('<canvas/>');\n",
       "    rubberband.attr('style', \"position: absolute; left: 0; top: 0; z-index: 1;\")\n",
       "\n",
       "    var pass_mouse_events = true;\n",
       "\n",
       "    canvas_div.resizable({\n",
       "        start: function(event, ui) {\n",
       "            pass_mouse_events = false;\n",
       "        },\n",
       "        resize: function(event, ui) {\n",
       "            fig.request_resize(ui.size.width, ui.size.height);\n",
       "        },\n",
       "        stop: function(event, ui) {\n",
       "            pass_mouse_events = true;\n",
       "            fig.request_resize(ui.size.width, ui.size.height);\n",
       "        },\n",
       "    });\n",
       "\n",
       "    function mouse_event_fn(event) {\n",
       "        if (pass_mouse_events)\n",
       "            return fig.mouse_event(event, event['data']);\n",
       "    }\n",
       "\n",
       "    rubberband.mousedown('button_press', mouse_event_fn);\n",
       "    rubberband.mouseup('button_release', mouse_event_fn);\n",
       "    // Throttle sequential mouse events to 1 every 20ms.\n",
       "    rubberband.mousemove('motion_notify', mouse_event_fn);\n",
       "\n",
       "    rubberband.mouseenter('figure_enter', mouse_event_fn);\n",
       "    rubberband.mouseleave('figure_leave', mouse_event_fn);\n",
       "\n",
       "    canvas_div.on(\"wheel\", function (event) {\n",
       "        event = event.originalEvent;\n",
       "        event['data'] = 'scroll'\n",
       "        if (event.deltaY < 0) {\n",
       "            event.step = 1;\n",
       "        } else {\n",
       "            event.step = -1;\n",
       "        }\n",
       "        mouse_event_fn(event);\n",
       "    });\n",
       "\n",
       "    canvas_div.append(canvas);\n",
       "    canvas_div.append(rubberband);\n",
       "\n",
       "    this.rubberband = rubberband;\n",
       "    this.rubberband_canvas = rubberband[0];\n",
       "    this.rubberband_context = rubberband[0].getContext(\"2d\");\n",
       "    this.rubberband_context.strokeStyle = \"#000000\";\n",
       "\n",
       "    this._resize_canvas = function(width, height) {\n",
       "        // Keep the size of the canvas, canvas container, and rubber band\n",
       "        // canvas in synch.\n",
       "        canvas_div.css('width', width)\n",
       "        canvas_div.css('height', height)\n",
       "\n",
       "        canvas.attr('width', width * mpl.ratio);\n",
       "        canvas.attr('height', height * mpl.ratio);\n",
       "        canvas.attr('style', 'width: ' + width + 'px; height: ' + height + 'px;');\n",
       "\n",
       "        rubberband.attr('width', width);\n",
       "        rubberband.attr('height', height);\n",
       "    }\n",
       "\n",
       "    // Set the figure to an initial 600x600px, this will subsequently be updated\n",
       "    // upon first draw.\n",
       "    this._resize_canvas(600, 600);\n",
       "\n",
       "    // Disable right mouse context menu.\n",
       "    $(this.rubberband_canvas).bind(\"contextmenu\",function(e){\n",
       "        return false;\n",
       "    });\n",
       "\n",
       "    function set_focus () {\n",
       "        canvas.focus();\n",
       "        canvas_div.focus();\n",
       "    }\n",
       "\n",
       "    window.setTimeout(set_focus, 100);\n",
       "}\n",
       "\n",
       "mpl.figure.prototype._init_toolbar = function() {\n",
       "    var fig = this;\n",
       "\n",
       "    var nav_element = $('<div/>')\n",
       "    nav_element.attr('style', 'width: 100%');\n",
       "    this.root.append(nav_element);\n",
       "\n",
       "    // Define a callback function for later on.\n",
       "    function toolbar_event(event) {\n",
       "        return fig.toolbar_button_onclick(event['data']);\n",
       "    }\n",
       "    function toolbar_mouse_event(event) {\n",
       "        return fig.toolbar_button_onmouseover(event['data']);\n",
       "    }\n",
       "\n",
       "    for(var toolbar_ind in mpl.toolbar_items) {\n",
       "        var name = mpl.toolbar_items[toolbar_ind][0];\n",
       "        var tooltip = mpl.toolbar_items[toolbar_ind][1];\n",
       "        var image = mpl.toolbar_items[toolbar_ind][2];\n",
       "        var method_name = mpl.toolbar_items[toolbar_ind][3];\n",
       "\n",
       "        if (!name) {\n",
       "            // put a spacer in here.\n",
       "            continue;\n",
       "        }\n",
       "        var button = $('<button/>');\n",
       "        button.addClass('ui-button ui-widget ui-state-default ui-corner-all ' +\n",
       "                        'ui-button-icon-only');\n",
       "        button.attr('role', 'button');\n",
       "        button.attr('aria-disabled', 'false');\n",
       "        button.click(method_name, toolbar_event);\n",
       "        button.mouseover(tooltip, toolbar_mouse_event);\n",
       "\n",
       "        var icon_img = $('<span/>');\n",
       "        icon_img.addClass('ui-button-icon-primary ui-icon');\n",
       "        icon_img.addClass(image);\n",
       "        icon_img.addClass('ui-corner-all');\n",
       "\n",
       "        var tooltip_span = $('<span/>');\n",
       "        tooltip_span.addClass('ui-button-text');\n",
       "        tooltip_span.html(tooltip);\n",
       "\n",
       "        button.append(icon_img);\n",
       "        button.append(tooltip_span);\n",
       "\n",
       "        nav_element.append(button);\n",
       "    }\n",
       "\n",
       "    var fmt_picker_span = $('<span/>');\n",
       "\n",
       "    var fmt_picker = $('<select/>');\n",
       "    fmt_picker.addClass('mpl-toolbar-option ui-widget ui-widget-content');\n",
       "    fmt_picker_span.append(fmt_picker);\n",
       "    nav_element.append(fmt_picker_span);\n",
       "    this.format_dropdown = fmt_picker[0];\n",
       "\n",
       "    for (var ind in mpl.extensions) {\n",
       "        var fmt = mpl.extensions[ind];\n",
       "        var option = $(\n",
       "            '<option/>', {selected: fmt === mpl.default_extension}).html(fmt);\n",
       "        fmt_picker.append(option)\n",
       "    }\n",
       "\n",
       "    // Add hover states to the ui-buttons\n",
       "    $( \".ui-button\" ).hover(\n",
       "        function() { $(this).addClass(\"ui-state-hover\");},\n",
       "        function() { $(this).removeClass(\"ui-state-hover\");}\n",
       "    );\n",
       "\n",
       "    var status_bar = $('<span class=\"mpl-message\"/>');\n",
       "    nav_element.append(status_bar);\n",
       "    this.message = status_bar[0];\n",
       "}\n",
       "\n",
       "mpl.figure.prototype.request_resize = function(x_pixels, y_pixels) {\n",
       "    // Request matplotlib to resize the figure. Matplotlib will then trigger a resize in the client,\n",
       "    // which will in turn request a refresh of the image.\n",
       "    this.send_message('resize', {'width': x_pixels, 'height': y_pixels});\n",
       "}\n",
       "\n",
       "mpl.figure.prototype.send_message = function(type, properties) {\n",
       "    properties['type'] = type;\n",
       "    properties['figure_id'] = this.id;\n",
       "    this.ws.send(JSON.stringify(properties));\n",
       "}\n",
       "\n",
       "mpl.figure.prototype.send_draw_message = function() {\n",
       "    if (!this.waiting) {\n",
       "        this.waiting = true;\n",
       "        this.ws.send(JSON.stringify({type: \"draw\", figure_id: this.id}));\n",
       "    }\n",
       "}\n",
       "\n",
       "\n",
       "mpl.figure.prototype.handle_save = function(fig, msg) {\n",
       "    var format_dropdown = fig.format_dropdown;\n",
       "    var format = format_dropdown.options[format_dropdown.selectedIndex].value;\n",
       "    fig.ondownload(fig, format);\n",
       "}\n",
       "\n",
       "\n",
       "mpl.figure.prototype.handle_resize = function(fig, msg) {\n",
       "    var size = msg['size'];\n",
       "    if (size[0] != fig.canvas.width || size[1] != fig.canvas.height) {\n",
       "        fig._resize_canvas(size[0], size[1]);\n",
       "        fig.send_message(\"refresh\", {});\n",
       "    };\n",
       "}\n",
       "\n",
       "mpl.figure.prototype.handle_rubberband = function(fig, msg) {\n",
       "    var x0 = msg['x0'] / mpl.ratio;\n",
       "    var y0 = (fig.canvas.height - msg['y0']) / mpl.ratio;\n",
       "    var x1 = msg['x1'] / mpl.ratio;\n",
       "    var y1 = (fig.canvas.height - msg['y1']) / mpl.ratio;\n",
       "    x0 = Math.floor(x0) + 0.5;\n",
       "    y0 = Math.floor(y0) + 0.5;\n",
       "    x1 = Math.floor(x1) + 0.5;\n",
       "    y1 = Math.floor(y1) + 0.5;\n",
       "    var min_x = Math.min(x0, x1);\n",
       "    var min_y = Math.min(y0, y1);\n",
       "    var width = Math.abs(x1 - x0);\n",
       "    var height = Math.abs(y1 - y0);\n",
       "\n",
       "    fig.rubberband_context.clearRect(\n",
       "        0, 0, fig.canvas.width, fig.canvas.height);\n",
       "\n",
       "    fig.rubberband_context.strokeRect(min_x, min_y, width, height);\n",
       "}\n",
       "\n",
       "mpl.figure.prototype.handle_figure_label = function(fig, msg) {\n",
       "    // Updates the figure title.\n",
       "    fig.header.textContent = msg['label'];\n",
       "}\n",
       "\n",
       "mpl.figure.prototype.handle_cursor = function(fig, msg) {\n",
       "    var cursor = msg['cursor'];\n",
       "    switch(cursor)\n",
       "    {\n",
       "    case 0:\n",
       "        cursor = 'pointer';\n",
       "        break;\n",
       "    case 1:\n",
       "        cursor = 'default';\n",
       "        break;\n",
       "    case 2:\n",
       "        cursor = 'crosshair';\n",
       "        break;\n",
       "    case 3:\n",
       "        cursor = 'move';\n",
       "        break;\n",
       "    }\n",
       "    fig.rubberband_canvas.style.cursor = cursor;\n",
       "}\n",
       "\n",
       "mpl.figure.prototype.handle_message = function(fig, msg) {\n",
       "    fig.message.textContent = msg['message'];\n",
       "}\n",
       "\n",
       "mpl.figure.prototype.handle_draw = function(fig, msg) {\n",
       "    // Request the server to send over a new figure.\n",
       "    fig.send_draw_message();\n",
       "}\n",
       "\n",
       "mpl.figure.prototype.handle_image_mode = function(fig, msg) {\n",
       "    fig.image_mode = msg['mode'];\n",
       "}\n",
       "\n",
       "mpl.figure.prototype.updated_canvas_event = function() {\n",
       "    // Called whenever the canvas gets updated.\n",
       "    this.send_message(\"ack\", {});\n",
       "}\n",
       "\n",
       "// A function to construct a web socket function for onmessage handling.\n",
       "// Called in the figure constructor.\n",
       "mpl.figure.prototype._make_on_message_function = function(fig) {\n",
       "    return function socket_on_message(evt) {\n",
       "        if (evt.data instanceof Blob) {\n",
       "            /* FIXME: We get \"Resource interpreted as Image but\n",
       "             * transferred with MIME type text/plain:\" errors on\n",
       "             * Chrome.  But how to set the MIME type?  It doesn't seem\n",
       "             * to be part of the websocket stream */\n",
       "            evt.data.type = \"image/png\";\n",
       "\n",
       "            /* Free the memory for the previous frames */\n",
       "            if (fig.imageObj.src) {\n",
       "                (window.URL || window.webkitURL).revokeObjectURL(\n",
       "                    fig.imageObj.src);\n",
       "            }\n",
       "\n",
       "            fig.imageObj.src = (window.URL || window.webkitURL).createObjectURL(\n",
       "                evt.data);\n",
       "            fig.updated_canvas_event();\n",
       "            fig.waiting = false;\n",
       "            return;\n",
       "        }\n",
       "        else if (typeof evt.data === 'string' && evt.data.slice(0, 21) == \"data:image/png;base64\") {\n",
       "            fig.imageObj.src = evt.data;\n",
       "            fig.updated_canvas_event();\n",
       "            fig.waiting = false;\n",
       "            return;\n",
       "        }\n",
       "\n",
       "        var msg = JSON.parse(evt.data);\n",
       "        var msg_type = msg['type'];\n",
       "\n",
       "        // Call the  \"handle_{type}\" callback, which takes\n",
       "        // the figure and JSON message as its only arguments.\n",
       "        try {\n",
       "            var callback = fig[\"handle_\" + msg_type];\n",
       "        } catch (e) {\n",
       "            console.log(\"No handler for the '\" + msg_type + \"' message type: \", msg);\n",
       "            return;\n",
       "        }\n",
       "\n",
       "        if (callback) {\n",
       "            try {\n",
       "                // console.log(\"Handling '\" + msg_type + \"' message: \", msg);\n",
       "                callback(fig, msg);\n",
       "            } catch (e) {\n",
       "                console.log(\"Exception inside the 'handler_\" + msg_type + \"' callback:\", e, e.stack, msg);\n",
       "            }\n",
       "        }\n",
       "    };\n",
       "}\n",
       "\n",
       "// from http://stackoverflow.com/questions/1114465/getting-mouse-location-in-canvas\n",
       "mpl.findpos = function(e) {\n",
       "    //this section is from http://www.quirksmode.org/js/events_properties.html\n",
       "    var targ;\n",
       "    if (!e)\n",
       "        e = window.event;\n",
       "    if (e.target)\n",
       "        targ = e.target;\n",
       "    else if (e.srcElement)\n",
       "        targ = e.srcElement;\n",
       "    if (targ.nodeType == 3) // defeat Safari bug\n",
       "        targ = targ.parentNode;\n",
       "\n",
       "    // jQuery normalizes the pageX and pageY\n",
       "    // pageX,Y are the mouse positions relative to the document\n",
       "    // offset() returns the position of the element relative to the document\n",
       "    var x = e.pageX - $(targ).offset().left;\n",
       "    var y = e.pageY - $(targ).offset().top;\n",
       "\n",
       "    return {\"x\": x, \"y\": y};\n",
       "};\n",
       "\n",
       "/*\n",
       " * return a copy of an object with only non-object keys\n",
       " * we need this to avoid circular references\n",
       " * http://stackoverflow.com/a/24161582/3208463\n",
       " */\n",
       "function simpleKeys (original) {\n",
       "  return Object.keys(original).reduce(function (obj, key) {\n",
       "    if (typeof original[key] !== 'object')\n",
       "        obj[key] = original[key]\n",
       "    return obj;\n",
       "  }, {});\n",
       "}\n",
       "\n",
       "mpl.figure.prototype.mouse_event = function(event, name) {\n",
       "    var canvas_pos = mpl.findpos(event)\n",
       "\n",
       "    if (name === 'button_press')\n",
       "    {\n",
       "        this.canvas.focus();\n",
       "        this.canvas_div.focus();\n",
       "    }\n",
       "\n",
       "    var x = canvas_pos.x * mpl.ratio;\n",
       "    var y = canvas_pos.y * mpl.ratio;\n",
       "\n",
       "    this.send_message(name, {x: x, y: y, button: event.button,\n",
       "                             step: event.step,\n",
       "                             guiEvent: simpleKeys(event)});\n",
       "\n",
       "    /* This prevents the web browser from automatically changing to\n",
       "     * the text insertion cursor when the button is pressed.  We want\n",
       "     * to control all of the cursor setting manually through the\n",
       "     * 'cursor' event from matplotlib */\n",
       "    event.preventDefault();\n",
       "    return false;\n",
       "}\n",
       "\n",
       "mpl.figure.prototype._key_event_extra = function(event, name) {\n",
       "    // Handle any extra behaviour associated with a key event\n",
       "}\n",
       "\n",
       "mpl.figure.prototype.key_event = function(event, name) {\n",
       "\n",
       "    // Prevent repeat events\n",
       "    if (name == 'key_press')\n",
       "    {\n",
       "        if (event.which === this._key)\n",
       "            return;\n",
       "        else\n",
       "            this._key = event.which;\n",
       "    }\n",
       "    if (name == 'key_release')\n",
       "        this._key = null;\n",
       "\n",
       "    var value = '';\n",
       "    if (event.ctrlKey && event.which != 17)\n",
       "        value += \"ctrl+\";\n",
       "    if (event.altKey && event.which != 18)\n",
       "        value += \"alt+\";\n",
       "    if (event.shiftKey && event.which != 16)\n",
       "        value += \"shift+\";\n",
       "\n",
       "    value += 'k';\n",
       "    value += event.which.toString();\n",
       "\n",
       "    this._key_event_extra(event, name);\n",
       "\n",
       "    this.send_message(name, {key: value,\n",
       "                             guiEvent: simpleKeys(event)});\n",
       "    return false;\n",
       "}\n",
       "\n",
       "mpl.figure.prototype.toolbar_button_onclick = function(name) {\n",
       "    if (name == 'download') {\n",
       "        this.handle_save(this, null);\n",
       "    } else {\n",
       "        this.send_message(\"toolbar_button\", {name: name});\n",
       "    }\n",
       "};\n",
       "\n",
       "mpl.figure.prototype.toolbar_button_onmouseover = function(tooltip) {\n",
       "    this.message.textContent = tooltip;\n",
       "};\n",
       "mpl.toolbar_items = [[\"Home\", \"Reset original view\", \"fa fa-home icon-home\", \"home\"], [\"Back\", \"Back to  previous view\", \"fa fa-arrow-left icon-arrow-left\", \"back\"], [\"Forward\", \"Forward to next view\", \"fa fa-arrow-right icon-arrow-right\", \"forward\"], [\"\", \"\", \"\", \"\"], [\"Pan\", \"Pan axes with left mouse, zoom with right\", \"fa fa-arrows icon-move\", \"pan\"], [\"Zoom\", \"Zoom to rectangle\", \"fa fa-square-o icon-check-empty\", \"zoom\"], [\"\", \"\", \"\", \"\"], [\"Download\", \"Download plot\", \"fa fa-floppy-o icon-save\", \"download\"]];\n",
       "\n",
       "mpl.extensions = [\"eps\", \"jpeg\", \"pdf\", \"png\", \"ps\", \"raw\", \"svg\", \"tif\"];\n",
       "\n",
       "mpl.default_extension = \"png\";var comm_websocket_adapter = function(comm) {\n",
       "    // Create a \"websocket\"-like object which calls the given IPython comm\n",
       "    // object with the appropriate methods. Currently this is a non binary\n",
       "    // socket, so there is still some room for performance tuning.\n",
       "    var ws = {};\n",
       "\n",
       "    ws.close = function() {\n",
       "        comm.close()\n",
       "    };\n",
       "    ws.send = function(m) {\n",
       "        //console.log('sending', m);\n",
       "        comm.send(m);\n",
       "    };\n",
       "    // Register the callback with on_msg.\n",
       "    comm.on_msg(function(msg) {\n",
       "        //console.log('receiving', msg['content']['data'], msg);\n",
       "        // Pass the mpl event to the overriden (by mpl) onmessage function.\n",
       "        ws.onmessage(msg['content']['data'])\n",
       "    });\n",
       "    return ws;\n",
       "}\n",
       "\n",
       "mpl.mpl_figure_comm = function(comm, msg) {\n",
       "    // This is the function which gets called when the mpl process\n",
       "    // starts-up an IPython Comm through the \"matplotlib\" channel.\n",
       "\n",
       "    var id = msg.content.data.id;\n",
       "    // Get hold of the div created by the display call when the Comm\n",
       "    // socket was opened in Python.\n",
       "    var element = $(\"#\" + id);\n",
       "    var ws_proxy = comm_websocket_adapter(comm)\n",
       "\n",
       "    function ondownload(figure, format) {\n",
       "        window.open(figure.imageObj.src);\n",
       "    }\n",
       "\n",
       "    var fig = new mpl.figure(id, ws_proxy,\n",
       "                           ondownload,\n",
       "                           element.get(0));\n",
       "\n",
       "    // Call onopen now - mpl needs it, as it is assuming we've passed it a real\n",
       "    // web socket which is closed, not our websocket->open comm proxy.\n",
       "    ws_proxy.onopen();\n",
       "\n",
       "    fig.parent_element = element.get(0);\n",
       "    fig.cell_info = mpl.find_output_cell(\"<div id='\" + id + \"'></div>\");\n",
       "    if (!fig.cell_info) {\n",
       "        console.error(\"Failed to find cell for figure\", id, fig);\n",
       "        return;\n",
       "    }\n",
       "\n",
       "    var output_index = fig.cell_info[2]\n",
       "    var cell = fig.cell_info[0];\n",
       "\n",
       "};\n",
       "\n",
       "mpl.figure.prototype.handle_close = function(fig, msg) {\n",
       "    var width = fig.canvas.width/mpl.ratio\n",
       "    fig.root.unbind('remove')\n",
       "\n",
       "    // Update the output cell to use the data from the current canvas.\n",
       "    fig.push_to_output();\n",
       "    var dataURL = fig.canvas.toDataURL();\n",
       "    // Re-enable the keyboard manager in IPython - without this line, in FF,\n",
       "    // the notebook keyboard shortcuts fail.\n",
       "    IPython.keyboard_manager.enable()\n",
       "    $(fig.parent_element).html('<img src=\"' + dataURL + '\" width=\"' + width + '\">');\n",
       "    fig.close_ws(fig, msg);\n",
       "}\n",
       "\n",
       "mpl.figure.prototype.close_ws = function(fig, msg){\n",
       "    fig.send_message('closing', msg);\n",
       "    // fig.ws.close()\n",
       "}\n",
       "\n",
       "mpl.figure.prototype.push_to_output = function(remove_interactive) {\n",
       "    // Turn the data on the canvas into data in the output cell.\n",
       "    var width = this.canvas.width/mpl.ratio\n",
       "    var dataURL = this.canvas.toDataURL();\n",
       "    this.cell_info[1]['text/html'] = '<img src=\"' + dataURL + '\" width=\"' + width + '\">';\n",
       "}\n",
       "\n",
       "mpl.figure.prototype.updated_canvas_event = function() {\n",
       "    // Tell IPython that the notebook contents must change.\n",
       "    IPython.notebook.set_dirty(true);\n",
       "    this.send_message(\"ack\", {});\n",
       "    var fig = this;\n",
       "    // Wait a second, then push the new image to the DOM so\n",
       "    // that it is saved nicely (might be nice to debounce this).\n",
       "    setTimeout(function () { fig.push_to_output() }, 1000);\n",
       "}\n",
       "\n",
       "mpl.figure.prototype._init_toolbar = function() {\n",
       "    var fig = this;\n",
       "\n",
       "    var nav_element = $('<div/>')\n",
       "    nav_element.attr('style', 'width: 100%');\n",
       "    this.root.append(nav_element);\n",
       "\n",
       "    // Define a callback function for later on.\n",
       "    function toolbar_event(event) {\n",
       "        return fig.toolbar_button_onclick(event['data']);\n",
       "    }\n",
       "    function toolbar_mouse_event(event) {\n",
       "        return fig.toolbar_button_onmouseover(event['data']);\n",
       "    }\n",
       "\n",
       "    for(var toolbar_ind in mpl.toolbar_items){\n",
       "        var name = mpl.toolbar_items[toolbar_ind][0];\n",
       "        var tooltip = mpl.toolbar_items[toolbar_ind][1];\n",
       "        var image = mpl.toolbar_items[toolbar_ind][2];\n",
       "        var method_name = mpl.toolbar_items[toolbar_ind][3];\n",
       "\n",
       "        if (!name) { continue; };\n",
       "\n",
       "        var button = $('<button class=\"btn btn-default\" href=\"#\" title=\"' + name + '\"><i class=\"fa ' + image + ' fa-lg\"></i></button>');\n",
       "        button.click(method_name, toolbar_event);\n",
       "        button.mouseover(tooltip, toolbar_mouse_event);\n",
       "        nav_element.append(button);\n",
       "    }\n",
       "\n",
       "    // Add the status bar.\n",
       "    var status_bar = $('<span class=\"mpl-message\" style=\"text-align:right; float: right;\"/>');\n",
       "    nav_element.append(status_bar);\n",
       "    this.message = status_bar[0];\n",
       "\n",
       "    // Add the close button to the window.\n",
       "    var buttongrp = $('<div class=\"btn-group inline pull-right\"></div>');\n",
       "    var button = $('<button class=\"btn btn-mini btn-primary\" href=\"#\" title=\"Stop Interaction\"><i class=\"fa fa-power-off icon-remove icon-large\"></i></button>');\n",
       "    button.click(function (evt) { fig.handle_close(fig, {}); } );\n",
       "    button.mouseover('Stop Interaction', toolbar_mouse_event);\n",
       "    buttongrp.append(button);\n",
       "    var titlebar = this.root.find($('.ui-dialog-titlebar'));\n",
       "    titlebar.prepend(buttongrp);\n",
       "}\n",
       "\n",
       "mpl.figure.prototype._root_extra_style = function(el){\n",
       "    var fig = this\n",
       "    el.on(\"remove\", function(){\n",
       "\tfig.close_ws(fig, {});\n",
       "    });\n",
       "}\n",
       "\n",
       "mpl.figure.prototype._canvas_extra_style = function(el){\n",
       "    // this is important to make the div 'focusable\n",
       "    el.attr('tabindex', 0)\n",
       "    // reach out to IPython and tell the keyboard manager to turn it's self\n",
       "    // off when our div gets focus\n",
       "\n",
       "    // location in version 3\n",
       "    if (IPython.notebook.keyboard_manager) {\n",
       "        IPython.notebook.keyboard_manager.register_events(el);\n",
       "    }\n",
       "    else {\n",
       "        // location in version 2\n",
       "        IPython.keyboard_manager.register_events(el);\n",
       "    }\n",
       "\n",
       "}\n",
       "\n",
       "mpl.figure.prototype._key_event_extra = function(event, name) {\n",
       "    var manager = IPython.notebook.keyboard_manager;\n",
       "    if (!manager)\n",
       "        manager = IPython.keyboard_manager;\n",
       "\n",
       "    // Check for shift+enter\n",
       "    if (event.shiftKey && event.which == 13) {\n",
       "        this.canvas_div.blur();\n",
       "        // select the cell after this one\n",
       "        var index = IPython.notebook.find_cell_index(this.cell_info[0]);\n",
       "        IPython.notebook.select(index + 1);\n",
       "    }\n",
       "}\n",
       "\n",
       "mpl.figure.prototype.handle_save = function(fig, msg) {\n",
       "    fig.ondownload(fig, null);\n",
       "}\n",
       "\n",
       "\n",
       "mpl.find_output_cell = function(html_output) {\n",
       "    // Return the cell and output element which can be found *uniquely* in the notebook.\n",
       "    // Note - this is a bit hacky, but it is done because the \"notebook_saving.Notebook\"\n",
       "    // IPython event is triggered only after the cells have been serialised, which for\n",
       "    // our purposes (turning an active figure into a static one), is too late.\n",
       "    var cells = IPython.notebook.get_cells();\n",
       "    var ncells = cells.length;\n",
       "    for (var i=0; i<ncells; i++) {\n",
       "        var cell = cells[i];\n",
       "        if (cell.cell_type === 'code'){\n",
       "            for (var j=0; j<cell.output_area.outputs.length; j++) {\n",
       "                var data = cell.output_area.outputs[j];\n",
       "                if (data.data) {\n",
       "                    // IPython >= 3 moved mimebundle to data attribute of output\n",
       "                    data = data.data;\n",
       "                }\n",
       "                if (data['text/html'] == html_output) {\n",
       "                    return [cell, data, j];\n",
       "                }\n",
       "            }\n",
       "        }\n",
       "    }\n",
       "}\n",
       "\n",
       "// Register the function which deals with the matplotlib target/channel.\n",
       "// The kernel may be null if the page has been refreshed.\n",
       "if (IPython.notebook.kernel != null) {\n",
       "    IPython.notebook.kernel.comm_manager.register_target('matplotlib', mpl.mpl_figure_comm);\n",
       "}\n"
      ],
      "text/plain": [
       "<IPython.core.display.Javascript object>"
      ]
     },
     "metadata": {},
     "output_type": "display_data"
    },
    {
     "data": {
      "text/html": [
       "<img src=\"data:image/png;base64,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\" width=\"639.2593044181615\">"
      ],
      "text/plain": [
       "<IPython.core.display.HTML object>"
      ]
     },
     "metadata": {},
     "output_type": "display_data"
    }
   ],
   "source": [
    "# You may wish to view the PageRank graphically.\n",
    "# This code will draw a bar chart, for each (numbered) website on the generated internet,\n",
    "# The height of each bar will be the score in the PageRank.\n",
    "# Run this code to see the PageRank for each internet you generate.\n",
    "# Hopefully you should see what you might expect\n",
    "# - there are a few clusters of important websites, but most on the internet are rubbish!\n",
    "%pylab notebook\n",
    "r = pageRank(generate_internet(100), 0.9)\n",
    "plt.bar(arange(r.shape[0]), r);"
   ]
  },
  {
   "cell_type": "code",
   "execution_count": null,
   "metadata": {
    "collapsed": true
   },
   "outputs": [],
   "source": []
  }
 ],
 "metadata": {
  "coursera": {
   "course_slug": "linear-algebra-machine-learning",
   "graded_item_id": "Sfbnp",
   "launcher_item_id": "aPxf3"
  },
  "kernelspec": {
   "display_name": "Python 3",
   "language": "python",
   "name": "python3"
  },
  "language_info": {
   "codemirror_mode": {
    "name": "ipython",
    "version": 3
   },
   "file_extension": ".py",
   "mimetype": "text/x-python",
   "name": "python",
   "nbconvert_exporter": "python",
   "pygments_lexer": "ipython3",
   "version": "3.6.2"
  }
 },
 "nbformat": 4,
 "nbformat_minor": 1
}
